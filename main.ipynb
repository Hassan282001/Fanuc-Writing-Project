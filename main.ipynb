{
 "cells": [
  {
   "cell_type": "code",
   "execution_count": 1,
   "metadata": {},
   "outputs": [],
   "source": [
    "#!/usr/bin/env python\n",
    "\n",
    "from fanuc_pcdk_client import FanucPCDKClient\n",
    "from robot_loc_world import RobotLocWorld\n",
    "from robot_loc_joint import RobotLocJoint\n",
    "from time import sleep\n",
    "\n",
    "ROBOT_SPEED = 20\n",
    "ROBOT_SPEED_LINEAR = 30"
   ]
  },
  {
   "cell_type": "code",
   "execution_count": 2,
   "metadata": {},
   "outputs": [
    {
     "name": "stdout",
     "output_type": "stream",
     "text": [
      "Connecting to robot at 192.168.1.1\n",
      "Robot Status: \u001b[32mConnected\n",
      "\u001b[0m\n"
     ]
    }
   ],
   "source": [
    "# Robot init\n",
    "robot = FanucPCDKClient()\n",
    "robot.connect()\n",
    "\n",
    "# Run teach pendant program.\n",
    "robot.run_program('PCDK')\n",
    "robot.reset_alarms()\n",
    "\n",
    "# Adjust the speed of the robot\n",
    "robot.set_speed(ROBOT_SPEED)"
   ]
  },
  {
   "cell_type": "code",
   "execution_count": 3,
   "metadata": {
    "scrolled": true
   },
   "outputs": [
    {
     "name": "stdout",
     "output_type": "stream",
     "text": [
      "Current world location: x=61.594; y=-414.919; z=-222.482; w=-179.754; p=2.825; r=-89.308; f=False; u=True; t=True\n",
      "\n",
      "Current joint location: j1=-81.904; j2=46.674; j3=-37.618; j4=-0.741; j5=-55.154; j6=-6.972\n",
      "\n"
     ]
    }
   ],
   "source": [
    "# Retrieve the current world XYZWPR coordinates of the robot\n",
    "loc_world = robot.get_position(\"world\")\n",
    "print(f'Current world location: {loc_world}\\n')\n",
    "\n",
    "# Retrieve the current joint coordinates of the robot\n",
    "loc_joint = robot.get_position(\"joint\")\n",
    "print(f'Current joint location: {loc_joint}\\n')"
   ]
  },
  {
   "cell_type": "code",
   "execution_count": 4,
   "metadata": {},
   "outputs": [],
   "source": [
    "robot.close_gripper()"
   ]
  },
  {
   "cell_type": "code",
   "execution_count": 5,
   "metadata": {},
   "outputs": [],
   "source": [
    "# Creating 3 grids (each with a 3x3 layout) to emulate a 7-segment display for robot arm positioning\n",
    "\n",
    "# Defining the position where the pen will be picked up\n",
    "penPos =  RobotLocWorld(x=-204.579, y=-448.436, z=-255.341, w=-179.753, p=2.758, r=-89.295, f=False, u=True, t=True) \n",
    "# Defining the start position of the robot arm\n",
    "startPos = RobotLocWorld (x=-204.576, y=-448.425, z=-74.584, w=-179.750, p=2.763, r=-89.295, f=False, u=True, t=True) \n",
    "\n",
    "# Defining positions in the first grid (firstGrid11, firstGrid12, ..., firstGrid33)\n",
    "# Each position represents a point in the 3x3 grid where the robot arm will move to\n",
    "firstGrid11 = RobotLocWorld (x=6.349, y=-427.024, z=-274.397, w=-179.754, p=2.770, r=-89.299, f=False, u=True, t=True)\n",
    "firstGrid12 = RobotLocWorld (x=22.171, y=-427.009, z=-275.382, w=-179.753, p=2.774, r=-89.303, f=False, u=True, t=True)\n",
    "firstGrid13 = RobotLocWorld (x=37.279, y=-426.992, z=-275.405, w=-179.752, p=2.778, r=-89.307, f=False, u=True, t=True)\n",
    "firstGrid21 = RobotLocWorld (x=3.711, y=-449.536, z=-275.434, w=-179.752, p=2.781, r=-89.303, f=False, u=True, t=True)\n",
    "firstGrid22 = RobotLocWorld ( x=16.414, y=-449.758, z=-275.465, w=-179.752, p=2.785, r=-89.307, f=False, u=True, t=True)\n",
    "firstGrid23 = RobotLocWorld (x=34.390, y=-449.742, z=-275.498, w=-179.752, p=2.789, r=-89.311, f=False, u=True, t=True)\n",
    "firstGrid31 = RobotLocWorld (x=3.343, y=-470.242, z=-275.583, w=-179.752, p=2.801, r=-89.303, f=False, u=True, t=True)\n",
    "firstGrid32 = RobotLocWorld (x=18.165, y=-470.175, z=-275.666, w=-179.751, p=2.813, r=-89.310, f=False, u=True, t=True)\n",
    "firstGrid33 = RobotLocWorld (x=33.507, y=-470.158, z=-275.701, w=-179.752, p=2.817, r=-89.312, f=False, u=True, t=True)\n",
    "\n",
    "# Defining positions for the second grid (secondGrid11, secondGrid12, ..., secondGrid33)\n",
    "secondGrid11 = RobotLocWorld (x=61.349, y=-427.024, z=-274.397, w=-179.754, p=2.770, r=-89.299, f=False, u=True, t=True)\n",
    "secondGrid12 = RobotLocWorld (x=77.171, y=-427.009, z=-275.382, w=-179.753, p=2.774, r=-89.303, f=False, u=True, t=True)\n",
    "secondGrid13 = RobotLocWorld (x=93.279, y=-426.992, z=-275.405, w=-179.752, p=2.778, r=-89.307, f=False, u=True, t=True)\n",
    "secondGrid21 = RobotLocWorld (x=58.711, y=-449.536, z=-275.434, w=-179.752, p=2.781, r=-89.303, f=False, u=True, t=True)\n",
    "secondGrid22 = RobotLocWorld (x=71.414, y=-449.758, z=-275.465, w=-179.752, p=2.785, r=-89.307, f=False, u=True, t=True)\n",
    "secondGrid23 = RobotLocWorld (x=89.390, y=-449.742, z=-275.498, w=-179.752, p=2.789, r=-89.311, f=False, u=True, t=True)\n",
    "secondGrid31 = RobotLocWorld (x=58.343, y=-470.242, z=-275.583, w=-179.752, p=2.801, r=-89.303, f=False, u=True, t=True)\n",
    "secondGrid32 = RobotLocWorld (x=73.165, y=-470.175, z=-275.666, w=-179.751, p=2.813, r=-89.310, f=False, u=True, t=True)\n",
    "secondGrid33 = RobotLocWorld (x=88.507, y=-470.158, z=-275.701, w=-179.752, p=2.817, r=-89.312, f=False, u=True, t=True)\n",
    "\n",
    "# Defining positions for the third grid (thirdGrid11, thirdGrid12, ..., thirdGrid33)\n",
    "thirdGrid11 = RobotLocWorld (x=116.349, y=-427.024, z=-274.397, w=-179.754, p=2.770, r=-89.299, f=False, u=True, t=True)\n",
    "thirdGrid12 = RobotLocWorld (x=132.171, y=-427.009, z=-275.382, w=-179.753, p=2.774, r=-89.303, f=False, u=True, t=True)\n",
    "thirdGrid13 = RobotLocWorld (x=148.279, y=-426.992, z=-275.405, w=-179.752, p=2.778, r=-89.307, f=False, u=True, t=True)\n",
    "thirdGrid21 = RobotLocWorld (x=113.711, y=-449.536, z=-275.434, w=-179.752, p=2.781, r=-89.303, f=False, u=True, t=True)\n",
    "thirdGrid22 = RobotLocWorld (x=126.414, y=-449.758, z=-275.465, w=-179.752, p=2.785, r=-89.307, f=False, u=True, t=True)\n",
    "thirdGrid23 = RobotLocWorld (x=144.390, y=-449.742, z=-275.498, w=-179.752, p=2.789, r=-89.311, f=False, u=True, t=True)\n",
    "thirdGrid31 = RobotLocWorld (x=113.343, y=-470.242, z=-275.583, w=-179.752, p=2.801, r=-89.303, f=False, u=True, t=True)\n",
    "thirdGrid32 = RobotLocWorld (x=128.165, y=-470.175, z=-275.666, w=-179.751, p=2.813, r=-89.310, f=False, u=True, t=True)\n",
    "thirdGrid33 = RobotLocWorld (x=143.507, y=-470.158, z=-275.701, w=-179.752, p=2.817, r=-89.312, f=False, u=True, t=True)\n",
    "\n",
    "# Defining the position to reset the robot arm after completing the writing of a letter\n",
    "wordreset = RobotLocWorld (x=61.594, y=-414.919, z=-222.482, w=-179.754, p=2.825, r=-89.308, f=False, u=True, t=True)"
   ]
  },
  {
   "cell_type": "code",
   "execution_count": 6,
   "metadata": {},
   "outputs": [
    {
     "name": "stdout",
     "output_type": "stream",
     "text": [
      "Enter the 3-letter word you want written: SLU\n",
      "Writing complete.\n"
     ]
    }
   ],
   "source": [
    "# Function to write a letter based on its position\n",
    "def write_letter(letter, position):\n",
    "    # Defining a dictionary where each key is a letter and the value is a list of grid positions\n",
    "    # These positions correspond to points on a surface where the robot arm should move to write the letter\n",
    "    grid_positions = {\n",
    "        's': [position + '13', position + '12', position + '22', position + '23', position + '33', position + '32'],\n",
    "        'l': [position + '11', position + '21', position + '31', position + '32', position + '33'],\n",
    "        'o': [position + '11', position + '12', position + '13', position + '23', position + '33', position + '32', position + '31', position + '21', position + '11'],\n",
    "        'w': [position + '11', position + '21', position + '31', position + '22', position + '33', position + '23', position + '13'],\n",
    "        'u': [position + '11', position + '21', position + '31', position + '32', position + '33', position + '23', position + '13'],\n",
    "        'b': [position + '11', position + '21', position + '31', position + '32', position + '22', position + '21', position + '22', position + '12', position + '11'],\n",
    "    }\n",
    "\n",
    "    # Iterating over the grid positions for the given letter and moving the robot to each position\n",
    "    for grid_position in grid_positions.get(letter, []):\n",
    "        robot.move(eval(grid_position))\n",
    "\n",
    "# Function to validate the input word\n",
    "def is_valid_word(word):\n",
    "    # Returns True if the word is exactly three letters long and only contains the specified letters\n",
    "    return len(word) == 3 and all(char in 'SLOWUB' for char in word.upper())\n",
    "\n",
    "# Main program\n",
    "word = input(\"Enter the 3-letter word you want written: \").lower()\n",
    "\n",
    "# Checking if the input word is valid\n",
    "if not is_valid_word(word):\n",
    "    print(\"Invalid input. Please enter a word using the letters S, L, O, W, U, B only.\")\n",
    "else:\n",
    "    # Initial robot setup: moving to the starting position and preparing the pen\n",
    "    robot.move(startPos)\n",
    "    robot.move(penPos)\n",
    "    robot.open_gripper()\n",
    "    robot.move(startPos)\n",
    "\n",
    "    # Writing each letter of the word\n",
    "    # The position variable changes based on the index of the letter in the word\n",
    "    for i, letter in enumerate(word):\n",
    "        position = 'firstGrid' if i == 0 else 'secondGrid' if i == 1 else 'thirdGrid'\n",
    "        write_letter(letter, position)\n",
    "        robot.move(wordreset)\n",
    "\n",
    "    # Final steps after writing: moving the pen back and closing the gripper\n",
    "    robot.move(penPos)\n",
    "    robot.close_gripper()\n",
    "    robot.move(startPos)\n",
    "\n",
    "    # Indicating that the writing process is complete\n",
    "    print(\"Writing complete.\")"
   ]
  }
 ],
 "metadata": {
  "kernelspec": {
   "display_name": "Python 3",
   "language": "python",
   "name": "python3"
  },
  "language_info": {
   "codemirror_mode": {
    "name": "ipython",
    "version": 3
   },
   "file_extension": ".py",
   "mimetype": "text/x-python",
   "name": "python",
   "nbconvert_exporter": "python",
   "pygments_lexer": "ipython3",
   "version": "3.7.3"
  }
 },
 "nbformat": 4,
 "nbformat_minor": 2
}
